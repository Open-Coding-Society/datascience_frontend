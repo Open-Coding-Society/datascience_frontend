{
 "cells": [
  {
   "cell_type": "markdown",
   "id": "898d007b",
   "metadata": {},
   "source": [
    "---\n",
    "layout: post\n",
    "title: Surviving Sickeness\n",
    "description: Visualizing Percentile Scores with Machine Learning\n",
    "permalink: /survivingblog/\n",
    "toc: false\n",
    "comments: true\n",
    "---\n"
   ]
  },
  {
   "cell_type": "markdown",
   "id": "98be8d29",
   "metadata": {},
   "source": [
    "##  Surviving Sickness: Can You Beat the Flu?\n",
    "Have you ever wondered what your chances are of surviving a nasty case of influenza? In this project, we set out to answer that question using data science and machine learning. Our model doesn’t just guess — it makes predictions based on real-world data and statistical analysis. Let’s break down how it works.\n",
    "\n",
    "##  The Big Idea\n",
    "The goal was to build a tool that could predict the probability of surviving influenza based on key symptoms and patient information. Using a logistic regression model trained on historical health data, we can now estimate someone’s survival odds with just a few inputs."
   ]
  },
  {
   "cell_type": "markdown",
   "id": "19144838",
   "metadata": {},
   "source": [
    "-Data Formats:_\n",
    "Uses **text and numeric data formatting**. The numeric data is used to input user age, and the text is what allows users to input either yes/no, depending on their symptoms. The output is also given in a textual format. \n",
    "\n",
    "_-Different Use Cases:_\n",
    "This feature can be used in **healthcare and education**. Since this is a disease survivability tracker, it has the potential to be adapted into a survey that patients can take to diagnose themselves with different diseases and their survivability. However, since this can be very risky, it is more applicable in an educational setting. This data is based on previous cases of diseases, so it can be used by medical students to study how different variables like age/ other symptoms affect survivability. \n",
    "\n",
    "_-Pipeline Stages:_\n",
    "(link to the documentation blog will go here)\n",
    "\n",
    "_-Tooling/Libraries:_\n",
    "This user inputs programs from **scikit-learn** (LogisticRegression and LabelEncoder) and **Pandas**. It was not done in Jupyter notebooks, and it has a **full Python** backend and JavaScript frontend. This feature also utilizes a CSV file, where the data that's being analyzed is stored. \n",
    "\n",
    "_-Data Source Type:_\n",
    "The data stored in the CSV file was taken from an **open-source dataset** created by UC Irvine.  [Link Here](https://archive.ics.uci.edu/dataset/861/influenza+outbreak+event+prediction+via+twitter)\n"
   ]
  },
  {
   "cell_type": "markdown",
   "id": "4bb96f64",
   "metadata": {},
   "source": [
    "##  The Data\n",
    "We used a dataset that contains anonymized health records of people who had influenza.The dataset was from a reputable source, which is UCI data repository. Each row in the dataset represents a patient, and each column represents a symptom or factor:\n",
    "\n",
    "| Feature               | Description                                 |\n",
    "|------------------------|---------------------------------------------|\n",
    "| Age                   | Patient’s age in years                      |\n",
    "| Fever                 | Did the patient have a fever? (Yes/No)      |\n",
    "| Cough                 | Was a cough present? (Yes/No)               |\n",
    "| Shortness of Breath   | Difficulty breathing? (Yes/No)              |\n",
    "| Survived              | Outcome (1 = survived, 0 = did not survive) |\n"
   ]
  },
  {
   "cell_type": "markdown",
   "id": "47c0a524",
   "metadata": {},
   "source": [
    "##  The Model\n",
    "To train our model, we used logistic regression — a statistical technique ideal for binary classification problems (like survive or not survive). Here’s why it works well:\n",
    "\n",
    "Logistic regression predicts probabilities between 0 and 1.\n",
    "\n",
    "It’s interpretable — you can see which features affect the outcome.\n",
    "\n",
    "It works well on smaller datasets with binary outcomes."
   ]
  },
  {
   "cell_type": "markdown",
   "id": "924d55cf",
   "metadata": {},
   "source": [
    "##  Making a Prediction\n",
    "When you use the web form, you input your:\n",
    "\n",
    "Age\n",
    "\n",
    "Whether or not you have a fever\n",
    "\n",
    "Whether or not you’re coughing\n",
    "\n",
    "If you have shortness of breath\n",
    "\n",
    "Your inputs are sent to the backend, where we feed them into our model:"
   ]
  },
  {
   "cell_type": "code",
   "execution_count": null,
   "id": "94590c08",
   "metadata": {},
   "outputs": [],
   "source": [
    "input_features = [[age, fever, cough, sob]]\n",
    "survival_prob = model.predict_proba(input_features)[0][1]"
   ]
  },
  {
   "cell_type": "markdown",
   "id": "378a66b2",
   "metadata": {},
   "source": [
    "The model calculates your survival probability, and we return it with two values:\n",
    "\n",
    "Survival chance (e.g. 87%)\n",
    "\n",
    "Death risk (e.g. 13%)\n",
    "\n",
    "You’ll then see this information clearly on the page, alongside a popup explaining what it means.\n"
   ]
  },
  {
   "cell_type": "markdown",
   "id": "2e5bb93b",
   "metadata": {},
   "source": [
    "##  User Interface\n",
    "We designed the frontend with simplicity and clarity in mind. Key features include:\n",
    "\n",
    "A clean form with labeled fields\n",
    "\n",
    "Instant results after submission\n",
    "\n",
    "A “What does this mean?” tooltip to help interpret your score"
   ]
  },
  {
   "cell_type": "markdown",
   "id": "c2c2ded0",
   "metadata": {},
   "source": [
    "##  Future Improvements\n",
    "While our current model is functional, there's always room to grow:\n",
    "\n",
    "✅ Add more features like sex, vaccination status, or comorbidities\n",
    "\n",
    "📈 Visualize the output with graphs or survival curves\n",
    "\n",
    "🧠 Try more complex models (Random Forests, Gradient Boosting)\n",
    "\n",
    "This project is just the beginning — it shows how machine learning can support healthcare decisions by giving people insight into their conditions.\n",
    "\n",
    "| Aspect              | Detail                                 |\n",
    "|---------------------|----------------------------------------|\n",
    "| ML Model            | Logistic Regression                    |\n",
    "| Prediction Goal     | Probability of surviving influenza     |\n",
    "| Inputs Used         | Age, Fever, Cough, Shortness of Breath |\n",
    "| Tech Stack          | Python, Flask, JavaScript, HTML/CSS    |"
   ]
  }
 ],
 "metadata": {
  "language_info": {
   "name": "python"
  }
 },
 "nbformat": 4,
 "nbformat_minor": 5
}
