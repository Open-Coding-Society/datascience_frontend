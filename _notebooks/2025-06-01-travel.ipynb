{
 "cells": [
  {
   "cell_type": "markdown",
   "id": "891fbffb",
   "metadata": {},
   "source": [
    "---\n",
    "layout: post\n",
    "title: Travel Documetation/ Teaching\n",
    "description: Machine Learning and Data Science through a travel guide\n",
    "permalink: /TravelTeach/\n",
    "toc: false\n",
    "comments: true\n",
    "---"
   ]
  },
  {
   "cell_type": "markdown",
   "id": "948ac456",
   "metadata": {},
   "source": [
    "# Purpose\n",
    "\n",
    "Machine learning isn't just for predicting stock prices or diagnosing diseases—it can also help plan your next vacation! In this project, we created a Travel Destination Recommender using a decision tree model. Based on your preferences (like favorite season, activity type, budget, and continent), the model suggests a unique travel destination tailored to you.\n",
    "\n",
    "It’s a fun way to see how machine learning can turn personal data into actionable insights—even for something as exciting as vacation planning!\n",
    "\n",
    "---\n",
    "\n",
    "# Data Collection\n",
    "\n",
    "The dataset used here is a custom dataset with 35+ unique travel examples. Each entry includes:\n",
    "\n",
    "- Season (e.g., summer, winter)\n",
    "- Activity (e.g., hiking, skiing, museums)\n",
    "- Budget (low, medium, high)\n",
    "- Continent (e.g., Asia, Europe)\n",
    "- Destination (e.g., Bali, Switzerland)"
   ]
  },
  {
   "cell_type": "code",
   "execution_count": null,
   "id": "1ff46440",
   "metadata": {},
   "outputs": [],
   "source": [
    "data = {\n",
    "    ['summer', 'beach', 'low', 'asia', 'bali'],\n",
    "    ['winter', 'skiing', 'high', 'europe', 'switzerland'],\n",
    "    ['autumn', 'hiking', 'medium', 'north america', 'colorado'],\n",
    "    ['spring', 'museums', 'medium', 'europe', 'paris'],\n",
    "    ['summer', 'safari', 'high', 'africa', 'kenya'],\n",
    "    ['winter', 'northern lights', 'high', 'europe', 'iceland'],\n",
    "    ...\n",
    "}"
   ]
  },
  {
   "cell_type": "markdown",
   "id": "580d3d67",
   "metadata": {},
   "source": [
    "---"
   ]
  },
  {
   "cell_type": "markdown",
   "id": "2c970bbb",
   "metadata": {},
   "source": [
    "#  Processing\n",
    "To make the model understand these categories, we first encode each feature into numbers using LabelEncoder. For example:\n",
    "- \"summer\" becomes 2\n",
    "- \"skiing\" becomes 4\n",
    "- \"europe\" becomes 1\n",
    "\n",
    "We train a Decision Tree Classifier on the encoded dataset. This algorithm creates a tree of decision rules that can match input preferences to the most likely destination.\n",
    "\n",
    "We also included an activity category mapper that lets users input broader categories like \"adventure\" or \"relaxation\". The system will randomly choose a real-world activity (e.g., hiking, safari) that fits the category and use that for prediction.\n",
    "\n",
    "---\n",
    "\n",
    "# Modeling & Training\n",
    "This part is done in the backend model:\n"
   ]
  },
  {
   "cell_type": "code",
   "execution_count": null,
   "id": "7b63a245",
   "metadata": {},
   "outputs": [],
   "source": [
    "self.model = DecisionTreeClassifier()\n",
    "self.model.fit(X_encoded, y_encoded)"
   ]
  },
  {
   "cell_type": "markdown",
   "id": "8aa4108e",
   "metadata": {},
   "source": [
    "It uses the season, activity, budget, and continent as inputs, and predicts the final destination.\n",
    "\n",
    "Here’s how we test it:"
   ]
  },
  {
   "cell_type": "code",
   "execution_count": null,
   "id": "55302005",
   "metadata": {},
   "outputs": [],
   "source": [
    "sample_input = {\n",
    "    \"season\": \"summer\",\n",
    "    \"activity\": \"adventure\",\n",
    "    \"budget\": \"medium\",\n",
    "    \"continent\": \"africa\"\n",
    "}\n",
    "prediction = model.predict(sample_input)\n",
    "print(prediction)"
   ]
  },
  {
   "cell_type": "markdown",
   "id": "9084b020",
   "metadata": {},
   "source": [
    "sample output:"
   ]
  },
  {
   "cell_type": "code",
   "execution_count": null,
   "id": "cabbabce",
   "metadata": {},
   "outputs": [],
   "source": [
    "{\n",
    "  \"destination\": \"Tanzania\",\n",
    "  \"activitySuggestion\": \"Hiking in Tanzania\"\n",
    "}"
   ]
  },
  {
   "cell_type": "markdown",
   "id": "d1e5df35",
   "metadata": {},
   "source": [
    "---"
   ]
  },
  {
   "cell_type": "markdown",
   "id": "b0ff2d72",
   "metadata": {},
   "source": [
    "# API Endpoint"
   ]
  },
  {
   "cell_type": "markdown",
   "id": "57576714",
   "metadata": {},
   "source": [
    "We created a simple REST API using Flask. There’s one main endpoint:"
   ]
  },
  {
   "cell_type": "code",
   "execution_count": null,
   "id": "34936348",
   "metadata": {},
   "outputs": [],
   "source": [
    "POST /api/destination/recommend"
   ]
  },
  {
   "cell_type": "markdown",
   "id": "8d7068d2",
   "metadata": {},
   "source": [
    "Here’s how it works:"
   ]
  },
  {
   "cell_type": "code",
   "execution_count": null,
   "id": "8d56c6ff",
   "metadata": {},
   "outputs": [],
   "source": [
    "# In api/destination.py\n",
    "class _Recommend(Resource):\n",
    "    def post(self):\n",
    "        data = request.get_json()\n",
    "        model = Destination.get_instance()\n",
    "        recommendation = model.predict(data)\n",
    "        return jsonify(recommendation)"
   ]
  },
  {
   "cell_type": "markdown",
   "id": "64a82b4b",
   "metadata": {},
   "source": [
    "Just send a JSON with your preferences, and get a travel suggestion back.\n",
    "\n",
    "---\n",
    "\n",
    "# Frontend Logic (Example)\n",
    "\n",
    "You can connect your frontend to this API and update the UI dynamically based on the recommendation:"
   ]
  },
  {
   "cell_type": "code",
   "execution_count": null,
   "id": "614f58ca",
   "metadata": {
    "vscode": {
     "languageId": "javascript"
    }
   },
   "outputs": [],
   "source": [
    "fetch('/api/destination/recommend', {\n",
    "    method: 'POST',\n",
    "    headers: { 'Content-Type': 'application/json' },\n",
    "    body: JSON.stringify(userPreferences)\n",
    "  })\n",
    "  .then(response => response.json())\n",
    "  .then(data => {\n",
    "    const resultDiv = document.getElementById(\"result\");\n",
    "    let imageSrc = \"\";\n",
    "    let message = `🌍 ${data.activitySuggestion}!`;\n",
    "  \n",
    "    // Change image based on destination continent\n",
    "    if (data.destination.includes(\"Switzerland\")) {\n",
    "      imageSrc = \"/images/snowy.png\";\n",
    "    } else if (data.destination.includes(\"Bali\")) {\n",
    "      imageSrc = \"/images/beach.png\";\n",
    "    } else {\n",
    "      imageSrc = \"/images/default.png\";\n",
    "    }\n",
    "  \n",
    "    resultDiv.innerHTML = `\n",
    "      <h3>Recommended Destination: ${data.destination}</h3>\n",
    "      <p>${message}</p>\n",
    "      <img src=\"${imageSrc}\" alt=\"travel image\">\n",
    "    `;\n",
    "  });  "
   ]
  },
  {
   "cell_type": "markdown",
   "id": "06c18133",
   "metadata": {},
   "source": [
    "---"
   ]
  },
  {
   "cell_type": "markdown",
   "id": "11273b83",
   "metadata": {},
   "source": [
    "# Next Steps\n",
    "- Add filters for travel duration or visa-free travel\n",
    "- Use real-world travel data from tourism APIs (like TripAdvisor, Amadeus, or Skyscanner)\n",
    "- Include images, sounds, or videos for immersive feedback\n",
    "- Support multiple suggestions (e.g., top 3 destinations)\n",
    "\n",
    "--- \n",
    "\n",
    "# Conclusion\n",
    "This project shows how even a simple machine learning model like a decision tree can personalize travel recommendations. By combining a trained model with a user-friendly interface, you can create an engaging and useful experience.\n",
    "\n",
    "Whether you're planning a beach vacation or a hiking adventure, data science can help guide the way!"
   ]
  }
 ],
 "metadata": {
  "language_info": {
   "name": "python"
  }
 },
 "nbformat": 4,
 "nbformat_minor": 5
}
