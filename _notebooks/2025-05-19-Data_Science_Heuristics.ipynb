{
 "cells": [
  {
   "cell_type": "markdown",
   "id": "403d217d",
   "metadata": {},
   "source": [
    "---\n",
    "layout: post\n",
    "title: Data Science Heuristics\n",
    "description: Learn more about heuristics!\n",
    "permalink: /heuristics\n",
    "toc: true\n",
    "comments: true\n",
    "---"
   ]
  }
 ],
 "metadata": {
  "language_info": {
   "name": "python"
  }
 },
 "nbformat": 4,
 "nbformat_minor": 5
}
