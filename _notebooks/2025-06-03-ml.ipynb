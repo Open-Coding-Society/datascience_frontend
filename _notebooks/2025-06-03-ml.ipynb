{
 "cells": [
  {
   "cell_type": "markdown",
   "metadata": {},
   "source": [
    "---\n",
    "layout: post\n",
    "title: Machine Learning Documentation \n",
    "description: Learn machine learning using our website. \n",
    "toc: false\n",
    "comments: true\n",
    "---"
   ]
  },
  {
   "cell_type": "markdown",
   "metadata": {},
   "source": [
    "<h1> Getting Started </h1>\n",
    "\n",
    "All features of our website is depenedent on Machine Learning and using the different ways that we can use it. On our page, every features has a blog attatched to it with detailed descriptions of how to implement Machine Learning. \n",
    "\n",
    "\n",
    "<h1> How is it used? </h1>\n",
    "\n",
    "1. Surivivng Sickness\n",
    "    - Machine Learning is used to predict how important each symptom of an illness is. Through learning, it has the ability to better predict survival and death rates. \n",
    "2. Travel Recommendation\n",
    "    - Machine Learning is used to predict how different settings and variations in a user's requerst corresponds with the place they want to visit. As more users select summer, winter, autumn, or spring paired with a certain activity, the feature will learn to more predictly choose a site to vist .\n",
    "3. College Predictor\n",
    "    - Similar to Surviving Sickness, uses ML to weigh which stat is the most important. \n",
    "4. Pet Trainer\n",
    "    - Uses Machine Learning to learn how important sleep, play, or food is when raising a pet. The procedure will run based off a given set of data and train itself into weighing each category differently. \n",
    "5. Score Predictor\n",
    "    - Similar to Pet Trainer, it had a given database of previous test scores, and uses that to train and predict how the scores of current users compare to past users. \n",
    "6. Titanic\n",
    "    - Machine Learning depending on where the embarktion location is, gender, age, money, etc. \n",
    "\n",
    "\n",
    "Be Sure to refer to our blogs to gsee the code and more!"
   ]
  }
 ],
 "metadata": {
  "language_info": {
   "name": "python"
  }
 },
 "nbformat": 4,
 "nbformat_minor": 2
}
