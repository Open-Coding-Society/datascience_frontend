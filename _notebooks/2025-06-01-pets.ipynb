{
 "cells": [
  {
   "cell_type": "raw",
   "metadata": {},
   "source": [
    "---\n",
    "layout: post\n",
    "title: Pet Documetation/ Teaching\n",
    "description: Machine Learning and Data Science through Pet training\n",
    "permalink: /pets/\n",
    "toc: false\n",
    "comments: true\n",
    "---"
   ]
  },
  {
   "cell_type": "markdown",
   "metadata": {},
   "source": [
    "<h1> Purpose </h1>\n",
    "\n",
    "Learn how to output various images/animation based off of a Linear Regression model. Machine learning is very versatile! It can be used for simple games like this Pet Trainer, or more complex scientific purposes like healthcare or cybersecurity.   "
   ]
  },
  {
   "cell_type": "markdown",
   "metadata": {},
   "source": [
    "<h1> Data Collection</h1>\n",
    "\n",
    "This specific feature was trained using the self-created data set below. Data can be taken from multiple source such as pre-made API's, open-source databases, and more. It does not need to be freshly created. \n"
   ]
  },
  {
   "cell_type": "code",
   "execution_count": null,
   "metadata": {},
   "outputs": [],
   "source": [
    "data = {\n",
    "    'food': [1, 2, 3, 4, 5, 2, 1, 3, 4],\n",
    "    'play': [5, 4, 3, 2, 1, 3, 4, 1, 5],\n",
    "    'sleep': [2, 2, 3, 4, 5, 5, 4, 3, 1],\n",
    "    'happiness': [6, 7, 8, 9, 9, 6, 5, 6, 8]\n",
    "}"
   ]
  },
  {
   "cell_type": "markdown",
   "metadata": {},
   "source": [
    "<h1> Processing </h1>\n",
    "\n",
    "The data is processed using a **Linear Regression** model. This is done by splitting the features (food, play, sleep, happiness) into the variable 'X' and the target (happiness) into the variable 'Y'. \n",
    "- Linear regression is *mathematical*. The X and Y are plotted and a line of best fit is created to most accurately predict the happiness/ target. \n",
    "    - It can be usually explained using an equation like this: **Happiness=(a⋅food)+(b⋅play)+(c⋅sleep)**\n",
    "    - Variable A, B, and C are the **weight** of feature importance that the model learned. \n",
    "\n",
    "<br>\n",
    "\n",
    "Here's an example: \n",
    "- If the model learns that A is work 1.2, B is 0.5, C is 2.0, and the user inputs a value of 4 for food, the computer will do (1.2 x 4). Based off of the other inputs, it will add all values together and display the total happiness score of the pet. \n",
    "\n",
    "Below is the full code on how to split the data. "
   ]
  },
  {
   "cell_type": "code",
   "execution_count": null,
   "metadata": {},
   "outputs": [],
   "source": [
    "from sklearn.linear_model import LinearRegression\n",
    "from sklearn.tree import DecisionTreeRegressor\n",
    "from sklearn.model_selection import train_test_split\n",
    "import pandas as pd\n",
    "import numpy as np\n",
    "\n",
    "class Pet:\n",
    "    _instance = None\n",
    "\n",
    "    def __init__(self):\n",
    "        self.model = None\n",
    "        self.dt = None\n",
    "        self.features = ['food', 'play', 'sleep']\n",
    "        self.target = 'happiness'\n",
    "        self.pet_data = self._load_data()\n",
    "\n",
    "    def _load_data(self):\n",
    "        # Simulated training data\n",
    "        data = {\n",
    "            'food': [1, 2, 3, 4, 5, 2, 1, 3, 4],\n",
    "            'play': [5, 4, 3, 2, 1, 3, 4, 1, 5],\n",
    "            'sleep': [2, 2, 3, 4, 5, 5, 4, 3, 1],\n",
    "            'happiness': [6, 7, 8, 9, 9, 6, 5, 6, 8]\n",
    "        }\n",
    "        return pd.DataFrame(data)\n",
    "\n",
    "    def _train(self):\n",
    "        X = self.pet_data[self.features]\n",
    "        y = self.pet_data[self.target]\n",
    "\n",
    "        self.model = LinearRegression()\n",
    "        self.model.fit(X, y)\n",
    "\n",
    "        self.dt = DecisionTreeRegressor()\n",
    "        self.dt.fit(X, y)\n",
    "\n",
    "    @classmethod\n",
    "    def get_instance(cls):\n",
    "        if cls._instance is None:\n",
    "            cls._instance = cls()\n",
    "            cls._instance._train()\n",
    "        return cls._instance\n",
    "\n",
    "    def predict(self, data):\n",
    "        df = pd.DataFrame([data])\n",
    "        prediction = self.model.predict(df)[0]\n",
    "        return {'predicted_happiness': round(prediction, 2)}\n",
    "\n",
    "    def feature_weights(self):\n",
    "        importances = self.dt.feature_importances_\n",
    "        return {feature: round(importance, 2) for feature, importance in zip(self.features, importances)}"
   ]
  },
  {
   "cell_type": "markdown",
   "metadata": {},
   "source": [
    "<h1> Modeling/ Training </h1>\n",
    "\n",
    "This should be done under the model file in the backend. "
   ]
  },
  {
   "cell_type": "code",
   "execution_count": null,
   "metadata": {},
   "outputs": [],
   "source": [
    "def testPet():\n",
    "    print(\" Step 1: Sample Pet Data\")\n",
    "    pet = {'food': 3, 'play': 4, 'sleep': 3}\n",
    "    print(\"\\t\", pet)\n",
    "    model = Pet.get_instance()\n",
    "\n",
    "    print(\" Step 2: Predict Happiness\")\n",
    "    prediction = model.predict(pet)\n",
    "    print(\"\\t Predicted Happiness:\", prediction)\n",
    "\n",
    "    print(\" Step 3: Feature Importance\")\n",
    "    importances = model.feature_weights()\n",
    "    for k, v in importances.items():\n",
    "        print(f\"\\t {k}: {v}\")\n",
    "\n",
    "if __name__ == \"__main__\":\n",
    "    testPet()"
   ]
  },
  {
   "cell_type": "markdown",
   "metadata": {},
   "source": [
    "Using this code, a test run of the program can be done, displaying how well the Regression model and feature is working. If executing, it will show the sample input (data) that was created before, the predicted happiness, and the importance of each feature. The next step is to create the API endpoint. \n",
    "\n",
    "<br>"
   ]
  },
  {
   "cell_type": "code",
   "execution_count": null,
   "metadata": {},
   "outputs": [],
   "source": [
    "from flask import Blueprint, request, jsonify\n",
    "from flask_restful import Api, Resource\n",
    "from model.pet import Pet\n",
    "\n",
    "pet_api = Blueprint('pet_api', __name__, url_prefix='/api/pet')\n",
    "api = Api(pet_api)\n",
    "\n",
    "class PetAPI:\n",
    "    class _Predict(Resource):\n",
    "        def post(self):\n",
    "            data = request.get_json()\n",
    "            pet_model = Pet.get_instance()\n",
    "            prediction = pet_model.predict(data)\n",
    "            return jsonify(prediction)\n",
    "\n",
    "    class _FeatureWeights(Resource):\n",
    "        def get(self):\n",
    "            pet_model = Pet.get_instance()\n",
    "            weights = pet_model.feature_weights()\n",
    "            return jsonify(weights)\n",
    "\n",
    "    api.add_resource(_Predict, '/predict')\n",
    "    api.add_resource(_FeatureWeights, '/features')\n"
   ]
  },
  {
   "cell_type": "markdown",
   "metadata": {},
   "source": [
    "Split your main mode (PetAPI) into sub classes. Each of these classes is what the api endpoint will be names (Predict class is /predict). Remember to update the main.py"
   ]
  },
  {
   "cell_type": "markdown",
   "metadata": {},
   "source": [
    "<h1> Now, the output </h1>\n",
    "\n",
    "Simple frontend can be created by attatching the api endpoint ```(/api/pet/predict')``` in this case. In order to display different images based off of the result given by the Linear Regression model, we must use **conditional statments**. \n",
    "\n",
    "<br>\n",
    "\n",
    "The statement ```resultDiv.innerHTML = `<h3>Predicted Happiness: ${happiness}</h3>`;``` is connected to the backend and uses the happiness score that was predicted. Using the variable \"happiness,\" we can contruct something that looks like this:"
   ]
  },
  {
   "cell_type": "code",
   "execution_count": null,
   "metadata": {
    "vscode": {
     "languageId": "javascript"
    }
   },
   "outputs": [],
   "source": [
    "    if (happiness > 8) {\n",
    "      imageSrc = \"{{site.baseurl}}/images/happy.png\";\n",
    "      message = \"I'm feeling pawsome! 🐾\";\n",
    "    } else if (happiness < 5) {\n",
    "      imageSrc = \"{{site.baseurl}}/images/sad.png\";\n",
    "      message = \"I'm feeling ruff... 🥺\";\n",
    "    }"
   ]
  },
  {
   "cell_type": "markdown",
   "metadata": {},
   "source": [
    "If the happiness given by the data anlysis is **less than** 5, the image will change to a sad dog. If it is **above 8**, than it will display a happy dog. These numbers can be changes and tweaked to suit programmer preferences. "
   ]
  },
  {
   "cell_type": "markdown",
   "metadata": {},
   "source": [
    "<h1> Next Steps </h1>\n",
    "What can we do next with this? How can we improve? Here are some suggestions: \n",
    "\n",
    "- Add the ability to switch between pets. Not everyone is a dog person!\n",
    "- Add differnet forms of outpts. Maybe add a sparkle sound effect for good happiness results or a sad tone for low scores. \n",
    "- Learn about other data models using the other blogs on this website to add even ways to analyze the data\n"
   ]
  },
  {
   "cell_type": "markdown",
   "metadata": {},
   "source": [
    "<h1> Conclusion </h1>\n",
    "This project shows how linear regression can predict a pet’s happiness based on food, play, and sleep. By combining a trained model with a simple frontend, we can display different images based on the prediction, making machine learning both fun and interactive.\n",
    "\n",
    "It’s a great example of how data science can be used creatively. With more features or pet types, this project could grow even further."
   ]
  },
  {
   "cell_type": "markdown",
   "metadata": {},
   "source": [
    "<h1> All Together </h1>\n",
    "\n",
    "| Happy | Sad | Neutral|\n",
    "|---------------|---------------|---------------|\n",
    "| ![Happy]({{site.baseurl}}/images/happyex.png) | ![Sad]({{site.baseurl}}/images/sadex.png) | ![Neutral]({{site.baseurl}}/images/ex.png) |\n",
    "\n"
   ]
  }
 ],
 "metadata": {
  "kernelspec": {
   "display_name": "venv",
   "language": "python",
   "name": "python3"
  },
  "language_info": {
   "codemirror_mode": {
    "name": "ipython",
    "version": 3
   },
   "file_extension": ".py",
   "mimetype": "text/x-python",
   "name": "python",
   "nbconvert_exporter": "python",
   "pygments_lexer": "ipython3",
   "version": "3.12.5"
  }
 },
 "nbformat": 4,
 "nbformat_minor": 2
}
