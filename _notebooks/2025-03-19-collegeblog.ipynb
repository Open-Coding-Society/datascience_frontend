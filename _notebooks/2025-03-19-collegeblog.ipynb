{
 "cells": [
  {
   "cell_type": "markdown",
   "id": "b9714398",
   "metadata": {},
   "source": [
    "---\n",
    "layout: post\n",
    "title: Score Predictor\n",
    "description: Visualizing Percentile Scores with Machine Learning\n",
    "permalink: /collegeblog/\n",
    "toc: false\n",
    "comments: true\n",
    "---\n"
   ]
  },
  {
   "cell_type": "markdown",
   "id": "72e1c63a",
   "metadata": {},
   "source": [
    "Purpose\n",
    "Learn how to predict a student's chance of college acceptance using a Linear Regression model. Machine learning is flexible! It can be used to evaluate college readiness just like this College Predictor, or for much larger tasks like admissions algorithms or career forecasting."
   ]
  },
  {
   "cell_type": "markdown",
   "id": "b6ce1107",
   "metadata": {},
   "source": [
    "Data Collection\n",
    "This specific feature was trained using the self-created dataset below. Data can be taken from multiple sources such as school APIs, university admissions reports, or self-reported results. It does not need to be freshly created."
   ]
  },
  {
   "cell_type": "code",
   "execution_count": null,
   "id": "295aab13",
   "metadata": {
    "vscode": {
     "languageId": "plaintext"
    }
   },
   "outputs": [],
   "source": [
    "data = {\n",
    "    'gpa': [3.0, 3.2, 3.5, 3.8, 4.0, 3.9, 3.6, 3.1, 2.9],\n",
    "    'sat': [1100, 1200, 1300, 1400, 1500, 1480, 1350, 1250, 1000],\n",
    "    'act': [21, 24, 27, 30, 33, 32, 28, 23, 19],\n",
    "    'apCount': [2, 3, 5, 7, 10, 9, 6, 4, 1],\n",
    "    'extracurriculars': [3, 4, 6, 8, 10, 9, 7, 5, 2],\n",
    "    'chance': [30, 40, 55, 70, 90, 88, 65, 45, 20]\n",
    "}\n"
   ]
  },
  {
   "cell_type": "markdown",
   "id": "723e326c",
   "metadata": {},
   "source": [
    "Processing\n",
    "The data is processed using a Linear Regression model. This is done by splitting the features (GPA, SAT, ACT, AP Count, and Extracurriculars) into the variable X and the target (Chance of Acceptance) into the variable Y.\n",
    "\n",
    "Linear regression is mathematical. The X and Y are plotted and a line of best fit is created to most accurately predict the acceptance chance.\n",
    "It can usually be explained using an equation like this:\n",
    "Chance = (a⋅gpa) + (b⋅sat) + (c⋅act) + (d⋅apCount) + (e⋅extracurriculars)\n",
    "Variables a–e are the weights that the model learns.\n",
    "\n",
    "Here’s an example:\n",
    "If the model learns that a = 10, b = 0.02, and the user inputs a GPA of 3.7 and SAT of 1450, it will calculate part of the equation as (10 × 3.7) + (0.02 × 1450), then combine with the rest to get the final prediction.\n",
    "\n",
    "Below is the full code on how to split the data."
   ]
  },
  {
   "cell_type": "code",
   "execution_count": null,
   "id": "68bfda5f",
   "metadata": {
    "vscode": {
     "languageId": "plaintext"
    }
   },
   "outputs": [],
   "source": [
    "from sklearn.linear_model import LinearRegression\n",
    "from sklearn.tree import DecisionTreeRegressor\n",
    "from sklearn.model_selection import train_test_split\n",
    "import pandas as pd\n",
    "import numpy as np\n",
    "\n",
    "class CollegePredictor:\n",
    "    _instance = None\n",
    "\n",
    "    def __init__(self):\n",
    "        self.model = None\n",
    "        self.dt = None\n",
    "        self.features = ['gpa', 'sat', 'act', 'apCount', 'extracurriculars']\n",
    "        self.target = 'chance'\n",
    "        self.college_data = self._load_data()\n",
    "\n",
    "    def _load_data(self):\n",
    "        # Simulated training data\n",
    "        data = {\n",
    "            'gpa': [3.0, 3.2, 3.5, 3.8, 4.0, 3.9, 3.6, 3.1, 2.9],\n",
    "            'sat': [1100, 1200, 1300, 1400, 1500, 1480, 1350, 1250, 1000],\n",
    "            'act': [21, 24, 27, 30, 33, 32, 28, 23, 19],\n",
    "            'apCount': [2, 3, 5, 7, 10, 9, 6, 4, 1],\n",
    "            'extracurriculars': [3, 4, 6, 8, 10, 9, 7, 5, 2],\n",
    "            'chance': [30, 40, 55, 70, 90, 88, 65, 45, 20]\n",
    "        }\n",
    "        return pd.DataFrame(data)\n",
    "\n",
    "    def _train(self):\n",
    "        X = self.college_data[self.features]\n",
    "        y = self.college_data[self.target]\n",
    "\n",
    "        self.model = LinearRegression()\n",
    "        self.model.fit(X, y)\n",
    "\n",
    "        self.dt = DecisionTreeRegressor()\n",
    "        self.dt.fit(X, y)\n",
    "\n",
    "    @classmethod\n",
    "    def get_instance(cls):\n",
    "        if cls._instance is None:\n",
    "            cls._instance = cls()\n",
    "            cls._instance._train()\n",
    "        return cls._instance\n",
    "\n",
    "    def predict(self, data):\n",
    "        df = pd.DataFrame([data])\n",
    "        prediction = self.model.predict(df)[0]\n",
    "        return {'predicted_chance': round(prediction, 2)}\n",
    "\n",
    "    def importance(self):\n",
    "        importances = self.dt.feature_importances_\n",
    "        return {feature: round(importance, 2) for feature, importance in zip(self.features, importances)}\n"
   ]
  },
  {
   "cell_type": "code",
   "execution_count": null,
   "id": "97b24782",
   "metadata": {
    "vscode": {
     "languageId": "plaintext"
    }
   },
   "outputs": [],
   "source": [
    "def testCollege():\n",
    "    print(\"Step 1: Sample Student Data\")\n",
    "    student = {\n",
    "        'gpa': 3.7,\n",
    "        'sat': 1450,\n",
    "        'act': 31,\n",
    "        'apCount': 6,\n",
    "        'extracurriculars': 8\n",
    "    }\n",
    "    print(\"\\t\", student)\n",
    "    model = CollegePredictor.get_instance()\n",
    "\n",
    "    print(\"Step 2: Predict Acceptance Chance\")\n",
    "    prediction = model.predict(student)\n",
    "    print(\"\\t Predicted Acceptance Chance:\", prediction)\n",
    "\n",
    "    print(\"Step 3: Feature Importance\")\n",
    "    importances = model.importance()\n",
    "    for k, v in importances.items():\n",
    "        print(f\"\\t {k}: {v}\")\n",
    "\n",
    "if __name__ == \"__main__\":\n",
    "    testCollege()\n"
   ]
  },
  {
   "cell_type": "markdown",
   "id": "19ce698d",
   "metadata": {},
   "source": [
    "Using this code, a test run of the program can be done, displaying how well the regression model and feature is working. If executing, it will show the sample input (student stats), the predicted acceptance chance, and the importance of each feature. The next step is to create the API endpoint."
   ]
  },
  {
   "cell_type": "code",
   "execution_count": null,
   "id": "0960841a",
   "metadata": {
    "vscode": {
     "languageId": "plaintext"
    }
   },
   "outputs": [],
   "source": [
    "API SETUP \n",
    "from flask import Blueprint, request, jsonify\n",
    "from flask_restful import Api, Resource\n",
    "from model.college import CollegePredictor\n",
    "\n",
    "college_api = Blueprint('college_api', __name__, url_prefix='/api/college')\n",
    "api = Api(college_api)\n",
    "\n",
    "class CollegeAPI:\n",
    "    class _Predict(Resource):\n",
    "        def post(self):\n",
    "            data = request.get_json()\n",
    "            model = CollegePredictor.get_instance()\n",
    "            prediction = model.predict(data)\n",
    "            return jsonify(prediction)\n",
    "\n",
    "    class _FeatureImportance(Resource):\n",
    "        def get(self):\n",
    "            model = CollegePredictor.get_instance()\n",
    "            importance = model.importance()\n",
    "            return jsonify(importance)\n",
    "\n",
    "    api.add_resource(_Predict, '/predict')\n",
    "    api.add_resource(_FeatureImportance, '/features')\n"
   ]
  },
  {
   "cell_type": "markdown",
   "id": "f3b0e78c",
   "metadata": {},
   "source": [
    "Split your main model (CollegeAPI) into sub-classes. Each of these classes is what the API endpoint will be named (Predict class is /predict). Remember to update the main.py."
   ]
  },
  {
   "cell_type": "markdown",
   "id": "071c0e9b",
   "metadata": {},
   "source": [
    "Now, the Output\n",
    "A simple frontend can be created by attaching the API endpoint (/api/college/predict). In order to display different images based on the result given by the Linear Regression model, we can use conditional statements."
   ]
  },
  {
   "cell_type": "code",
   "execution_count": null,
   "id": "28510bef",
   "metadata": {
    "vscode": {
     "languageId": "plaintext"
    }
   },
   "outputs": [],
   "source": [
    "if (chance > 80) {\n",
    "  imageSrc = \"/images/accepted.png\";\n",
    "  message = \"You have a strong chance! 🎉\";\n",
    "} else if (chance < 40) {\n",
    "  imageSrc = \"/images/uncertain.png\";\n",
    "  message = \"Consider adding safety schools.\";\n",
    "}\n"
   ]
  },
  {
   "cell_type": "markdown",
   "id": "8279fc09",
   "metadata": {},
   "source": [
    "If the predicted chance is over 80, show an \"accepted\" image. If it is below 40, show a caution image. These ranges can be customized by the programmer."
   ]
  },
  {
   "cell_type": "markdown",
   "id": "4c2e716c",
   "metadata": {},
   "source": [
    "Next Steps\n",
    "What can we do next with this? How can we improve? Here are some suggestions:\n",
    "\n",
    "Add the ability to switch between different universities.\n",
    "\n",
    "Include more features like essay score, class rank, and recommendation strength.\n",
    "\n",
    "Learn about other data models (like classification) to improve accuracy."
   ]
  },
  {
   "cell_type": "markdown",
   "id": "90813ee5",
   "metadata": {},
   "source": [
    "Conclusion\n",
    "This project shows how linear regression can predict a student's college acceptance chance based on stats like GPA and test scores. By combining a trained model with a simple frontend, we can make machine learning both educational and helpful.\n",
    "\n",
    "It’s a great example of how data science can be used creatively. With more detailed data and refined models, this predictor could evolve into a powerful tool for future applicants."
   ]
  }
 ],
 "metadata": {
  "language_info": {
   "name": "python"
  }
 },
 "nbformat": 4,
 "nbformat_minor": 5
}
