{
 "cells": [
  {
   "cell_type": "markdown",
   "id": "898d007b",
   "metadata": {},
   "source": [
    "---\n",
    "layout: post\n",
    "description: Machine Learning and Data Science \n",
    "toc: false\n",
    "comments: true\n",
    "---"
   ]
  },
  {
   "cell_type": "markdown",
   "id": "98be8d29",
   "metadata": {},
   "source": [
    "## Surviving the Titanic: What Are Your Chances?\n",
    "\n",
    "Have you ever wondered what your chances of surviving the Titanic disaster might have been? This project uses data science and statistical modeling to provide an answer. Rather than guessing, our model predicts survival probabilities based on historical Titanic passenger data and detailed analysis. Let’s explore how it works.\n",
    "\n",
    "## The Big Idea\n",
    "\n",
    "The goal was to build a tool that predicts the likelihood of surviving the Titanic sinking based on key passenger details. Using a logistic regression model trained on historical Titanic data, we can estimate a passenger’s survival odds from just a few pieces of information."
   ]
  },
  {
   "cell_type": "markdown",
   "id": "19144838",
   "metadata": {},
   "source": [
    "- **Data Formats:**  \n",
    "Uses **text and numeric data formatting**. Numeric data is used for inputs like passenger age, fare, and number of family members aboard. Text data includes categorical inputs such as passenger class, sex, and port of embarkation. The output is provided as survival probabilities in textual format.\n",
    "\n",
    "- **Different Use Cases:**  \n",
    "This model can be used for **education and data science demonstrations**. While it predicts Titanic survival chances based on historical data, its primary value lies in teaching statistical modeling and machine learning concepts. It helps students and enthusiasts understand how various passenger features influence survival outcomes.\n",
    "\n",
    "- **Pipeline Stages:**  \n",
    "(Link to the documentation blog will go here)\n",
    "\n",
    "- **Tooling/Libraries:**  \n",
    "This project uses **scikit-learn** (LogisticRegression and DecisionTreeClassifier) and **Pandas** for data manipulation. It is implemented with a **full Python** backend and JavaScript frontend. The Titanic dataset is loaded using the **Seaborn** library, which provides access to a cleaned historical dataset.\n",
    "\n",
    "- **Data Source Type:**  \n",
    "The dataset used is a **publicly available Titanic passenger dataset**, commonly used in machine learning education and it gathers data whenever a sumbission is submitted, right now the data is from students."
   ]
  },
  {
   "cell_type": "markdown",
   "id": "47c0a524",
   "metadata": {},
   "source": [
    "## The Model\n",
    "\n",
    "To train our model, we used logistic regression — a statistical technique ideal for binary classification problems such as predicting whether a passenger survived or not. Here’s why logistic regression works well for this task:\n",
    "\n",
    "- It predicts probabilities between 0 and 1, providing survival likelihoods.\n",
    "- It is interpretable, allowing us to see which features influence the outcome.\n",
    "- It performs well on smaller datasets with binary outcomes.\n",
    "\n",
    "This model is based on open-source code by Mr. Mortenson, from whom I obtained the original implementation."
   ]
  },
  {
   "cell_type": "markdown",
   "id": "924d55cf",
   "metadata": {},
   "source": [
    "## Making a Prediction\n",
    "\n",
    "When you use the web form, you input:\n",
    "\n",
    "- Passenger class (1st, 2nd, or 3rd)\n",
    "- Age\n",
    "- Sex\n",
    "- Number of siblings/spouses aboard\n",
    "- Number of parents/children aboard\n",
    "- Fare paid\n",
    "- Port of embarkation (C, Q, or S)\n",
    "- Whether the passenger is traveling alone\n",
    "\n",
    "Your inputs are sent to the backend, where they are fed into our Titanic survival prediction model."
   ]
  },
  {
   "cell_type": "code",
   "execution_count": null,
   "id": "94590c08",
   "metadata": {},
   "outputs": [],
   "source": [
    "api = Api(titanic_api)\n",
    "class TitanicAPI:\n",
    "    class _Predict(Resource):\n",
    "        \n",
    "        def post(self):\n",
    "            \"\"\" Semantics: In HTTP, POST requests are used to send data to the server for processing.\n",
    "            Sending passenger data to the server to get a prediction fits the semantics of a POST request.\n",
    "            \n",
    "            POST requests send data in the body of the request...\n",
    "            1. which can handle much larger amounts of data and data types, than URL parameters\n",
    "            2. using an HTTPS request, the data is encrypted, making it more secure\n",
    "            3. a JSON formated body is easy to read and write between JavaScript and Python, great for Postman testing\n",
    "            \"\"\"     \n",
    "            # Get the passenger data from the request\n",
    "            passenger = request.get_json()\n",
    "\n",
    "            # Get the singleton instance of the TitanicModel\n",
    "            titanicModel = TitanicModel.get_instance()\n",
    "            # Predict the survival probability of the passenger\n",
    "            response = titanicModel.predict(passenger)\n",
    "\n",
    "            # Return the response as JSON\n",
    "            return jsonify(response)\n",
    "\n",
    "    api.add_resource(_Predict, '/predict')"
   ]
  },
  {
   "cell_type": "markdown",
   "id": "378a66b2",
   "metadata": {},
   "source": [
    "The model calculates two predictions death or alive.\n"
   ]
  },
  {
   "cell_type": "markdown",
   "id": "2e5bb93b",
   "metadata": {},
   "source": [
    "## User Interface\n",
    "\n",
    "We designed the frontend with simplicity and clarity in mind. Key features include:\n",
    "\n",
    "- A clean form with clearly labeled input fields for each passenger attribute\n",
    "- Instant survival probability results displayed after submission\n",
    "- A Chart.js-powered pie chart to visually represent survival vs. non-survival probability\n",
    "- A \"What does this mean?\" tooltip to help users interpret their prediction\n",
    "- A public predictions section where users can opt to save and display their results using sql lite table"
   ]
  },
  {
   "cell_type": "markdown",
   "id": "c2c2ded0",
   "metadata": {},
   "source": [
    "## Future Improvements\n",
    "\n",
    "Looking ahead, we aim to make the Titanic survival prediction tool more user-focused and open-source-friendly:\n",
    "\n",
    "- Improve user authentication so that only registered users can submit predictions\n",
    "- Allow users to view and manage their past predictions, creating a more personalized experience\n",
    "- Refactor the codebase to be more modular and beginner-friendly, making it easier for contributors to understand and build upon\n",
    "- Add inline documentation and usage guides to support new members of the open source coding society\n",
    "\n",
    "These enhancements will not only make the tool more secure and engaging, but also position it as a valuable resource for collaborative learning and development."
   ]
  }
 ],
 "metadata": {
  "language_info": {
   "name": "python"
  }
 },
 "nbformat": 4,
 "nbformat_minor": 5
}
